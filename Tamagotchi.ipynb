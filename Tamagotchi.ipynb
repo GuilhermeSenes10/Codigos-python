{
  "nbformat": 4,
  "nbformat_minor": 0,
  "metadata": {
    "colab": {
      "name": "Tamagotchi.ipynb",
      "provenance": []
    },
    "kernelspec": {
      "name": "python3",
      "display_name": "Python 3"
    },
    "language_info": {
      "name": "python"
    }
  },
  "cells": [
    {
      "cell_type": "markdown",
      "source": [
        "Tamagotchi\n",
        "\n",
        "**Atributos**\n",
        "\n",
        "saúde = 0 a 5\n",
        "\n",
        "felicidade = 0 a 5\n",
        "\n",
        "fome = 0 a 5\n",
        "\n",
        "sede = 0 a 5\n",
        "\n",
        "energia = 0 a 5\n",
        "\n",
        "**Métodos**\n",
        "\n",
        "Brincar (energia -1,fome+1,felicidade+2,sede+1)\n",
        "\n",
        "comer(fome-1,energia+2,sede+0.5,felicidade+0.5)\n",
        "\n",
        "adoecer(saude -2, energia -2)\n",
        "\n",
        "beber(sede-1,energia+0.5)"
      ],
      "metadata": {
        "id": "gppYf-t8nC6u"
      }
    },
    {
      "cell_type": "code",
      "source": [
        "class Tamagotchi:\n",
        "  #construtor\n",
        "  def __init__(self,saude:float,felicidade:float,fome:float,sede:float,energia:float):\n",
        "    self.saude = saude\n",
        "    self.felicidade = felicidade\n",
        "    self.fome = fome\n",
        "    self.sede = sede\n",
        "    self.energia = energia\n",
        "\n",
        "  #métodos\n",
        "  def brincar(self):\n",
        "    self.energia = self.energia - 1.0\n",
        "    self.fome = self.fome + 1.0\n",
        "    self.felicidade = self.felicidade + 2.0\n",
        "    self.sede = self.sede + 1.0\n",
        "    print(f'Vou brincar')\n",
        "\n",
        "  def comer(self):\n",
        "    self.energia = self.energia + 2.0\n",
        "    self.fome = self.fome - 1.0\n",
        "    self.felicidade = self.felicidade + 0.5\n",
        "    self.sede = self.sede + 0.5\n",
        "    print(f'Estou com fome, vou comer')\n",
        "\n",
        "  def adoecer(self):\n",
        "    self.energia = self.energia - 2.0\n",
        "    self.saude = self.saude - 2.0\n",
        "    print(f'não to muito bem bergue, chama o samu')\n",
        "\n",
        "  def beber(self):\n",
        "    self.sede = self.sede - 1.0\n",
        "    self.energia = self.energia + 0.5\n",
        "    print(f'Que sede, vou beber')\n",
        "\n",
        "  def status(self):\n",
        "    print(f'Saúde: {self.saude}')\n",
        "    print(f'Felicidade: {self.felicidade}')\n",
        "    print(f'fome: {self.fome}')\n",
        "    print(f'sede: {self.sede}')\n",
        "    print(f'energia: {self.energia}')\n",
        "    print(f'-------------------')\n",
        "\n",
        "  #instância\n",
        "alfredo = Tamagotchi(saude=5.0,felicidade=3.0,fome=3.0,sede=1.0,energia=5.0)\n",
        "alfredo.status()\n",
        "alfredo.brincar()\n",
        "alfredo.status()\n",
        "alfredo.comer()\n",
        "alfredo.status()\n",
        "alfredo.adoecer()\n",
        "alfredo.status()\n",
        "alfredo.beber()\n",
        "alfredo.status()"
      ],
      "metadata": {
        "colab": {
          "base_uri": "https://localhost:8080/"
        },
        "id": "LuG3aROgnVFe",
        "outputId": "f340f49c-5669-441a-a426-f4fc12812e6a"
      },
      "execution_count": 17,
      "outputs": [
        {
          "output_type": "stream",
          "name": "stdout",
          "text": [
            "Saúde: 5.0\n",
            "Felicidade: 3.0\n",
            "fome: 3.0\n",
            "sede: 1.0\n",
            "energia: 5.0\n",
            "-------------------\n",
            "Vou brincar\n",
            "Saúde: 5.0\n",
            "Felicidade: 5.0\n",
            "fome: 4.0\n",
            "sede: 2.0\n",
            "energia: 4.0\n",
            "-------------------\n",
            "Estou com fome, vou comer\n",
            "Saúde: 5.0\n",
            "Felicidade: 5.5\n",
            "fome: 3.0\n",
            "sede: 2.5\n",
            "energia: 6.0\n",
            "-------------------\n",
            "não to muito bem bergue, chama o samu\n",
            "Saúde: 3.0\n",
            "Felicidade: 5.5\n",
            "fome: 3.0\n",
            "sede: 2.5\n",
            "energia: 4.0\n",
            "-------------------\n",
            "Que sede, vou beber\n",
            "Saúde: 3.0\n",
            "Felicidade: 5.5\n",
            "fome: 3.0\n",
            "sede: 1.5\n",
            "energia: 4.5\n",
            "-------------------\n"
          ]
        }
      ]
    }
  ]
}