{
  "nbformat": 4,
  "nbformat_minor": 0,
  "metadata": {
    "colab": {
      "name": "Bola.ipynb",
      "provenance": [],
      "collapsed_sections": []
    },
    "kernelspec": {
      "name": "python3",
      "display_name": "Python 3"
    },
    "language_info": {
      "name": "python"
    }
  },
  "cells": [
    {
      "cell_type": "code",
      "execution_count": 22,
      "metadata": {
        "colab": {
          "base_uri": "https://localhost:8080/"
        },
        "id": "_ky0jh4k-zrI",
        "outputId": "5db3703d-7cf1-49ad-ebb4-65a4d741dca2"
      },
      "outputs": [
        {
          "output_type": "stream",
          "name": "stdout",
          "text": [
            "A bola é da cor Vermelho tendo a circunferência de 68.0 centímetros e sendo feita de couro\n",
            "A bola é da cor rosa tendo a circunferência de 68.0 centímetros e sendo feita de couro\n"
          ]
        }
      ],
      "source": [
        "class Bola:\n",
        "  def __init__(self,cor:str,circunferencia:float,material:str):\n",
        "    self.cor = cor\n",
        "    self.circunferencia = circunferencia\n",
        "    self.material = material\n",
        "\n",
        "  def sobre(self):\n",
        "      print(f'A bola é da cor {self.cor} tendo a circunferência de {self.circunferencia} centímetros e sendo feita de {self.material}')\n",
        "\n",
        "bola1 = Bola(cor='Vermelho',circunferencia=68.0,material='couro')\n",
        "\n",
        "bola1.sobre()\n",
        "bola1.cor = 'rosa'\n",
        "bola1.sobre()"
      ]
    }
  ]
}