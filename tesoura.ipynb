{
  "nbformat": 4,
  "nbformat_minor": 0,
  "metadata": {
    "colab": {
      "provenance": [],
      "collapsed_sections": []
    },
    "kernelspec": {
      "name": "python3",
      "display_name": "Python 3"
    },
    "language_info": {
      "name": "python"
    }
  },
  "cells": [
    {
      "cell_type": "code",
      "execution_count": null,
      "metadata": {
        "colab": {
          "base_uri": "https://localhost:8080/"
        },
        "id": "nIWQ93IHMTjq",
        "outputId": "a77f720e-c946-4029-fd54-129bc65d9eb4"
      },
      "outputs": [
        {
          "output_type": "stream",
          "name": "stdout",
          "text": [
            "Qual sua escolha? Pedra, Papel ou Tesoura?\n",
            "papel\n",
            "tesoura\n",
            "iiiiiii, perdeu kkkkkk\n"
          ]
        }
      ],
      "source": [
        "import random\n",
        "\n",
        "def jogar():\n",
        "  jogador = input(\"Qual sua escolha? Pedra, Papel ou Tesoura?\\n\")\n",
        "  computador = random.choice(['pedra','papel','tesoura'])\n",
        "  print(computador)\n",
        "  #verifica empate\n",
        "  if jogador == computador:\n",
        "    return \"Puts, empatou\"\n",
        "  #pedra > tesoura, tesoura > papel, papel > pedra\n",
        "  if vitoria(jogador,computador):\n",
        "    return \"Oha lá, o cara ganhou! \\o/\"\n",
        "  else:\n",
        "    return \"iiiiiii, perdeu kkkkkk\"\n",
        "def vitoria(jogador,computador):\n",
        "  if(jogador == 'pedra' and computador == 'tesoura') or\\\n",
        "  (jogador == 'tespura' and computador == 'papel') or\\\n",
        "  (jogador == 'papel' and computador == 'pedra'):\n",
        "    return True\n",
        "\n",
        "print(jogar())"
      ]
    }
  ]
}