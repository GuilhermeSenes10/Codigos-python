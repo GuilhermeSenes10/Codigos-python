{
  "nbformat": 4,
  "nbformat_minor": 0,
  "metadata": {
    "colab": {
      "name": "Getter e Setter.ipynb",
      "provenance": []
    },
    "kernelspec": {
      "name": "python3",
      "display_name": "Python 3"
    },
    "language_info": {
      "name": "python"
    }
  },
  "cells": [
    {
      "cell_type": "code",
      "source": [
        "!pip install qrcode"
      ],
      "metadata": {
        "colab": {
          "base_uri": "https://localhost:8080/"
        },
        "id": "JD7LhTcC-XTX",
        "outputId": "5f7232ef-f726-42de-efd2-2d420cbaeccd"
      },
      "execution_count": 7,
      "outputs": [
        {
          "output_type": "stream",
          "name": "stdout",
          "text": [
            "Looking in indexes: https://pypi.org/simple, https://us-python.pkg.dev/colab-wheels/public/simple/\n",
            "Collecting qrcode\n",
            "  Downloading qrcode-7.3.1.tar.gz (43 kB)\n",
            "\u001b[K     |████████████████████████████████| 43 kB 1.3 MB/s \n",
            "\u001b[?25hBuilding wheels for collected packages: qrcode\n",
            "  Building wheel for qrcode (setup.py) ... \u001b[?25l\u001b[?25hdone\n",
            "  Created wheel for qrcode: filename=qrcode-7.3.1-py3-none-any.whl size=40402 sha256=5ff451fb271d47feaeeef04af732537117a8dbfc123d385a332a3f031ef6ac96\n",
            "  Stored in directory: /root/.cache/pip/wheels/93/d7/39/a4111be2cfb8e679938aa671a37888b6afb1f9e7d748e94492\n",
            "Successfully built qrcode\n",
            "Installing collected packages: qrcode\n",
            "Successfully installed qrcode-7.3.1\n"
          ]
        }
      ]
    },
    {
      "cell_type": "code",
      "execution_count": 13,
      "metadata": {
        "colab": {
          "base_uri": "https://localhost:8080/"
        },
        "id": "3c57yPaLihSp",
        "outputId": "5792bc7c-82be-4401-cb76-45b3650f7aa5"
      },
      "outputs": [
        {
          "output_type": "stream",
          "name": "stdout",
          "text": [
            "O funcionário Sebastião foi desativado com sucesso.\n",
            "O funcionário Dean foi ativado com sucesso.\n",
            "dean@senai.com\n",
            "Sebastião Morais seba@gmail.com True\n"
          ]
        }
      ],
      "source": [
        "import qrcode\n",
        "class Funcionario:\n",
        "  #construtor\n",
        "  def __init__(self,nome:str,sobrenome:str,email:str,ativo:bool):\n",
        "    self.nome = nome\n",
        "    self.sobrenome = sobrenome\n",
        "    self.email = email\n",
        "    self.ativo = ativo\n",
        "  #Meus métodos\n",
        "  def gerarQRCODE(self):\n",
        "    dado = self.nome+\" \"+self.sobrenome+\" \"+self.email+\" \"+str(self.ativo)\n",
        "    print (dado)\n",
        "    img = qrcode.make(dado)\n",
        "    img.save(\"/content/qrcode/\"+self.nome+\".png\")\n",
        "\n",
        "  def desativar(self):\n",
        "    self.__ativo = False\n",
        "    print(f'O funcionário {self.nome} foi desativado com sucesso.')\n",
        "  def ativar(self):\n",
        "    self.__ativo = True\n",
        "    print(f'O funcionário {self.nome} foi ativado com sucesso.')\n",
        "  #Getter\n",
        "  def get_nome(self):\n",
        "    return self.__nome\n",
        "\n",
        "  def get_sobrenome(self):\n",
        "    return self.__sobrenome\n",
        "\n",
        "  def get_email(self):\n",
        "    return self.__email\n",
        "\n",
        "  def get_ativo(self):\n",
        "    return self.__ativo\n",
        "\n",
        "  #Setter\n",
        "  def set_nome(self,nome):\n",
        "    self.__nome = nome\n",
        "\n",
        "  def set_sobrenome(self,sobrenome):\n",
        "    self.__sobrenome = sobrenome\n",
        "  \n",
        "  def set_email(self,email):\n",
        "    self.__email = email\n",
        "  \n",
        "  def set_ativo(self,ativo):\n",
        "    self.__ativo = ativo\n",
        "\n",
        "func = Funcionario(\"Sebastião\",\"Morais\",\"seba@gmail.com\",True)\n",
        "func2 = Funcionario(\"Dean\",\"Winchester\",\"dean@gmail.com\",False)\n",
        "\n",
        "func.desativar()\n",
        "func2.ativar()\n",
        "func2.set_email(\"dean@senai.com\")\n",
        "print(func2.get_email())\n",
        "func.gerarQRCODE()\n"
      ]
    }
  ]
}